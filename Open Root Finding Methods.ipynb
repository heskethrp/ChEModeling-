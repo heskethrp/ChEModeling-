{
 "cells": [
  {
   "cell_type": "markdown",
   "metadata": {},
   "source": [
    "In the previous exercise we examined root finding methods that use 2 values that bracket the root of an equation.  In this notebook you will use your old methods and new methods and compare them to each other.\n",
    " - Plots are still good to use! Graphical methods give approximate values of the roots of the equation\n",
    " - Use your bisection method\n",
    " - Use the linear interpolation method or Secant Method\n"
   ]
  },
  {
   "cell_type": "markdown",
   "metadata": {},
   "source": [
    "Find the molar volume and compressibility factor for gaseous ammonia at a pressure $P=56$atm and a temperature $T=450$K using the Redlich-Kwong EOS given below <br>\n",
    "$$P=\\frac{RT}{(V-b)}-\\frac{a}{V(V+b)T^{0.5}}$$\n",
    "$$a=0.42747\\left(\\frac{R^2T_c^{5/2}}{P_c}\\right)$$\n",
    "$$b=0.08664\\left(\\frac{RT_c}{P_c}\\right)$$\n",
    "with $T_c=405.5$K $P_c=111.3$ atm for NH$_3$ use $R=0.08206 \\frac{atm L}{mol K}$<br>\n",
    "To solve this equation you need to rearrange the equation to give a zero and find the $V$ that gives this root.\n"
   ]
  },
  {
   "cell_type": "code",
   "execution_count": 11,
   "metadata": {},
   "outputs": [],
   "source": [
    "import numpy as np\n",
    "from scipy.integrate import solve_ivp\n",
    "import math\n",
    "import matplotlib.pyplot as plt"
   ]
  },
  {
   "cell_type": "markdown",
   "metadata": {},
   "source": [
    "In this case you should write a function that calculates fx=0 and not use the lambda expression.  Becareful how you do this.  You do not need the version of the function that you send to fsolve.  So you don't need to unpack any arrays."
   ]
  },
  {
   "cell_type": "code",
   "execution_count": null,
   "metadata": {},
   "outputs": [],
   "source": [
    "#put the function in this cell\n"
   ]
  },
  {
   "cell_type": "code",
   "execution_count": 13,
   "metadata": {},
   "outputs": [],
   "source": [
    "#Make a plot of the zero of the function as a function of V.  the x needs to be a numpy array\n"
   ]
  },
  {
   "cell_type": "markdown",
   "metadata": {},
   "source": [
    "Where are the roots?  "
   ]
  },
  {
   "cell_type": "code",
   "execution_count": null,
   "metadata": {},
   "outputs": [],
   "source": []
  },
  {
   "cell_type": "markdown",
   "metadata": {},
   "source": [
    "Use your bisection program to find the root based on selecting 2 values that bracket the root in the graph above.  Paste your program in the cell below and run it to obtain the value of V."
   ]
  },
  {
   "cell_type": "code",
   "execution_count": null,
   "metadata": {},
   "outputs": [],
   "source": []
  },
  {
   "cell_type": "code",
   "execution_count": null,
   "metadata": {},
   "outputs": [],
   "source": [
    "# Use your linear interpolation method or Method of False Position here\n"
   ]
  },
  {
   "cell_type": "markdown",
   "metadata": {},
   "source": [
    "Based on the video lecture implement the secant method in which you start with a good guess and a value of h that is small compared to the x value."
   ]
  },
  {
   "cell_type": "code",
   "execution_count": null,
   "metadata": {},
   "outputs": [],
   "source": [
    "#place your secant method in this cell\n",
    "h=\n",
    "xguess="
   ]
  },
  {
   "cell_type": "code",
   "execution_count": null,
   "metadata": {},
   "outputs": [],
   "source": []
  }
 ],
 "metadata": {
  "colab": {
   "collapsed_sections": [],
   "provenance": [
    {
     "file_id": "184XY4TOcGbUhgd4mKF7DEg725m4A7yRe",
     "timestamp": 1661963051489
    }
   ]
  },
  "kernelspec": {
   "display_name": "Python 3",
   "language": "python",
   "name": "python3"
  },
  "language_info": {
   "codemirror_mode": {
    "name": "ipython",
    "version": 3
   },
   "file_extension": ".py",
   "mimetype": "text/x-python",
   "name": "python",
   "nbconvert_exporter": "python",
   "pygments_lexer": "ipython3",
   "version": "3.7.6"
  }
 },
 "nbformat": 4,
 "nbformat_minor": 1
}
