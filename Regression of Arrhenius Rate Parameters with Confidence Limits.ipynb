{
 "cells": [
  {
   "cell_type": "markdown",
   "id": "c3a8d8ac",
   "metadata": {},
   "source": [
    "This is based on the example of fitting of Arrhenius Rate constant parameters given in LearnChemE and in Kitchin's work from CMU.\n",
    "\n",
    "In this example we use a nonlinear curve-fitting function: scipy.optimize.curve_fit to give us the parameters in a function that we define which best fit the data. The scipy.optimize.curve_fit function also gives us the covariance matrix which we can use to estimate the standard error of each parameter. Finally, we modify the standard error by a student-t value which accounts for the additional uncertainty in our estimates due to the small number of data points that are being fit.  In addition we will calculate the R^2 value (Coefficient of Variation) and variance and make a residual plot.  This template is based on\n",
    "https://kitchingroup.cheme.cmu.edu/blog/2013/02/12/Nonlinear-curve-fitting-with-parameter-confidence-intervals/"
   ]
  },
  {
   "cell_type": "markdown",
   "id": "5f1d40bc",
   "metadata": {},
   "source": [
    "We will fit the function $$k=A\\exp\\left(-\\frac{E}{RT}\\right) = k_o\\exp\\left(-\\frac{E}{R}\\left[\\frac{1}{T}-\\frac{1}{T_o}\\right]\\right)$$ with $T_o=770K$ and $R=8.314 \\frac{J}{molK}$ to some data, and compute the 95% confidence intervals on the parameters."
   ]
  },
  {
   "cell_type": "code",
   "execution_count": 46,
   "id": "a7a47229",
   "metadata": {},
   "outputs": [],
   "source": [
    "# Nonlinear curve fit with confidence interval\n",
    "import numpy as np\n",
    "from scipy.optimize import curve_fit\n",
    "from scipy.stats.distributions import  t\n",
    "import matplotlib.pyplot as plt\n",
    "\n",
    "T = np.array([700,730,760,790,810,840])\n",
    "kexp = np.array([0.011,0.035,0.105,0.343,0.789,2.17])"
   ]
  },
  {
   "cell_type": "code",
   "execution_count": 47,
   "id": "0fd19818",
   "metadata": {},
   "outputs": [
    {
     "data": {
      "text/plain": [
       "array([0.00777755, 0.03111163, 0.1115501 , 0.36299416, 0.75933213,\n",
       "       2.15085457])"
      ]
     },
     "execution_count": 47,
     "metadata": {},
     "output_type": "execute_result"
    }
   ],
   "source": [
    "k0=0.167\n",
    "E=196345.610389613\n",
    "ycalc=k0*np.exp(-E/8.3148*(1/T-1/770))\n",
    "ycalc"
   ]
  },
  {
   "cell_type": "markdown",
   "id": "9af8049e",
   "metadata": {},
   "source": [
    "## Many times you need an initial guess of the parameters.\n",
    "The linearized equation is\n",
    "$$\\ln{k}=\\ln{A} - \\left(\\frac{E}{RT}\\right) = \\ln{k_o}-\\left(\\frac{E}{R}\\left[\\frac{1}{T}-\\frac{1}{T_o}\\right]\\right)$$ with $T_o=770K$ and $R=8.314 \\frac{J}{molK}$\n",
    "$$\\ln{k}=\\ln{A} - \\left(\\frac{E}{RT}\\right) = \\left(\\ln{k_o}-\\frac{E}{R}\\left[\\frac{1}{T_o}\\right]\\right)+ \\frac{E}{R}\\left[\\frac{1}{T}\\right]$$\n",
    "The linearized equation is\n",
    "$$\\ln{k}=\\text{constant}_0 - \\left(\\frac{\\text{constant}_1}{T}\\right)$$\n",
    "After you find the two constants you will need to determine $E$ and $k_o$\n",
    "$$\\text{constant}_1=-\\frac{E}{R}$$\n",
    "Solving for $E$\n",
    "$$E=-\\text{constant}_1R$$\n",
    "Solving for $k_o$\n",
    "$$k_o = \\exp\\left({\\text{constant}_0-\\frac{E}{RT_o}}\\right)$$"
   ]
  },
  {
   "cell_type": "code",
   "execution_count": 48,
   "id": "053573a1",
   "metadata": {},
   "outputs": [
    {
     "name": "stdout",
     "output_type": "stream",
     "text": [
      "1.0012987012987014\n"
     ]
    }
   ],
   "source": [
    "def funcLIN(T, constant0, constant1):\n",
    "    #'nonlinear function in ko and E to fit to data'\n",
    "    lnk=constant0+constant1/T\n",
    "    return lnk\n",
    "print(funcLIN(770,1,1))"
   ]
  },
  {
   "cell_type": "code",
   "execution_count": 49,
   "id": "2220e3f3",
   "metadata": {},
   "outputs": [
    {
     "name": "stdout",
     "output_type": "stream",
     "text": [
      "[-4.50986001 -3.35240722 -2.25379493 -1.07002483 -0.23698896  0.77472717]\n"
     ]
    }
   ],
   "source": [
    "lnkexp=np.log(kexp)\n",
    "print(lnkexp)"
   ]
  },
  {
   "cell_type": "code",
   "execution_count": 50,
   "id": "9b2a868d",
   "metadata": {},
   "outputs": [
    {
     "name": "stdout",
     "output_type": "stream",
     "text": [
      "pars= [    27.28122993 -22336.1563595 ]\n",
      "pcov= [[ 5.72153155e-01 -4.38143409e+02]\n",
      " [-4.38143409e+02  3.36813566e+05]]\n"
     ]
    }
   ],
   "source": [
    "pars, pcov = curve_fit(funcLIN, T, lnkexp)\n",
    "print('pars=', pars)\n",
    "print('pcov=',pcov)"
   ]
  },
  {
   "cell_type": "code",
   "execution_count": 51,
   "id": "b0e48c64",
   "metadata": {},
   "outputs": [
    {
     "name": "stdout",
     "output_type": "stream",
     "text": [
      "    Parameter  +/- 95% confidence  [lower 95%   upper 95%]\n",
      "p0: 27.28123 +/- 2.10013       [25.18110  29.38136]\n",
      "p1: -22336.15636 +/- 1611.32772       [-23947.48408  -20724.82864]\n"
     ]
    }
   ],
   "source": [
    "alpha = 0.05 # 95% confidence interval = 100*(1-alpha)\n",
    "\n",
    "n = len(lnkexp)    # number of data points\n",
    "p = len(pars) # number of parameters\n",
    "\n",
    "dof = max(0, n - p) # number of degrees of freedom\n",
    "\n",
    "# student-t value for the dof and confidence level\n",
    "tval = t.ppf(1.0-alpha/2., dof) \n",
    "print('    Parameter  +/- 95% confidence  [lower 95%   upper 95%]')\n",
    "for i, p,var in zip(range(n), pars, np.diag(pcov)):\n",
    "    sigma = var**0.5\n",
    "    \n",
    "    print ('p{:d}: {:7.5f} +/- {:7.5f}       [{:7.5f}  {:7.5f}]'\n",
    "           .format(i, p,sigma*tval,p - sigma*tval,p + sigma*tval))\n"
   ]
  },
  {
   "cell_type": "code",
   "execution_count": 52,
   "id": "90c68fff",
   "metadata": {},
   "outputs": [
    {
     "data": {
      "text/plain": [
       "array([-4.62756487, -3.31624454, -2.10844949, -0.99238572, -0.29427175,\n",
       "        0.69056759])"
      ]
     },
     "execution_count": 52,
     "metadata": {},
     "output_type": "execute_result"
    }
   ],
   "source": [
    "lnkcalc=pars[0]+pars[1]/T\n",
    "lnkcalc"
   ]
  },
  {
   "cell_type": "code",
   "execution_count": 53,
   "id": "fb6651ce",
   "metadata": {},
   "outputs": [
    {
     "name": "stdout",
     "output_type": "stream",
     "text": [
      "variance=0.01317\n"
     ]
    }
   ],
   "source": [
    "residuals = lnkcalc-lnkexp\n",
    "ss_res = np.sum(residuals**2)\n",
    "variance=ss_res/(len(kexp)-len(pars))\n",
    "print('variance={:7.5}'.format(variance))"
   ]
  },
  {
   "cell_type": "code",
   "execution_count": 54,
   "id": "9187a9ea",
   "metadata": {},
   "outputs": [
    {
     "name": "stdout",
     "output_type": "stream",
     "text": [
      "r^2=0.99731\n",
      "r^2Adj=0.99663\n"
     ]
    }
   ],
   "source": [
    "ss_res = np.sum(residuals**2)\n",
    "ss_tot = np.sum((lnkexp-np.mean(lnkexp))**2)\n",
    "r_squared = 1 - (ss_res/ss_tot)\n",
    "print('r^2={:7.5}'.format(r_squared))\n",
    "\n",
    "r_squaredAdj=1-ss_res/(len(lnkexp)-len(pars))/ss_tot*(len(lnkexp)-1)\n",
    "print('r^2Adj={:7.5}'.format(r_squaredAdj))"
   ]
  },
  {
   "cell_type": "code",
   "execution_count": 57,
   "id": "ccfab811",
   "metadata": {},
   "outputs": [
    {
     "name": "stdout",
     "output_type": "stream",
     "text": [
      "[700.         702.85714286 705.71428571 708.57142857 711.42857143\n",
      " 714.28571429 717.14285714 720.         722.85714286 725.71428571\n",
      " 728.57142857 731.42857143 734.28571429 737.14285714 740.\n",
      " 742.85714286 745.71428571 748.57142857 751.42857143 754.28571429\n",
      " 757.14285714 760.         762.85714286 765.71428571 768.57142857\n",
      " 771.42857143 774.28571429 777.14285714 780.         782.85714286\n",
      " 785.71428571 788.57142857 791.42857143 794.28571429 797.14285714\n",
      " 800.         802.85714286 805.71428571 808.57142857 811.42857143\n",
      " 814.28571429 817.14285714 820.         822.85714286 825.71428571\n",
      " 828.57142857 831.42857143 834.28571429 837.14285714 840.        ] [-4.62756487 -4.49785432 -4.36919406 -4.24157139 -4.11497379 -3.98938898\n",
      " -3.86480484 -3.74120946 -3.61859112 -3.49693828 -3.37623959 -3.25648385\n",
      " -3.13766006 -3.01975738 -2.90276515 -2.78667286 -2.67147017 -2.55714689\n",
      " -2.44369298 -2.33109858 -2.21935394 -2.10844949 -1.99837579 -1.88912353\n",
      " -1.78068355 -1.67304683 -1.56620448 -1.46014774 -1.35486797 -1.25035666\n",
      " -1.14660544 -1.04360604 -0.94135031 -0.83983024 -0.73903791 -0.63896552\n",
      " -0.5396054  -0.44094995 -0.34299172 -0.24572333 -0.14913753 -0.05322716\n",
      "  0.04201486  0.13659546  0.23052153  0.32379984  0.41643706  0.50843977\n",
      "  0.59981448  0.69056759]\n"
     ]
    }
   ],
   "source": [
    "xfit = np.linspace(700,840)\n",
    "yfit = funcLIN(xfit, pars[0], pars[1])\n",
    "print(xfit,yfit)"
   ]
  },
  {
   "cell_type": "code",
   "execution_count": 59,
   "id": "1cb10127",
   "metadata": {},
   "outputs": [
    {
     "data": {
      "text/plain": [
       "Text(0.5, 1.0, 'Linearized Arrhenius Rate Constant Fit')"
      ]
     },
     "execution_count": 59,
     "metadata": {},
     "output_type": "execute_result"
    },
    {
     "data": {
      "image/png": "[encoded data removed]",
      "text/plain": [
       "<Figure size 432x288 with 1 Axes>"
      ]
     },
     "metadata": {
      "needs_background": "light"
     },
     "output_type": "display_data"
    }
   ],
   "source": [
    "plt.plot(1/T,lnkexp,'bo ')\n",
    "xfit = np.linspace(840,700)\n",
    "yfit = funcLIN(T, pars[0], pars[1])\n",
    "plt.plot(1/T,yfit,'b-')\n",
    "plt.legend(['data','fit'],loc='best')\n",
    "plt.xlabel('1/T (1/K)')\n",
    "plt.ylabel('lnk (L/mol/s)')\n",
    "plt.title('Linearized Arrhenius Rate Constant Fit')"
   ]
  },
  {
   "cell_type": "code",
   "execution_count": 60,
   "id": "fa356aaf",
   "metadata": {},
   "outputs": [
    {
     "data": {
      "text/plain": [
       "Text(0, 0.5, '$lnk_{exp}$  - $lnk_{calc}$')"
      ]
     },
     "execution_count": 60,
     "metadata": {},
     "output_type": "execute_result"
    },
    {
     "data": {
      "image/png": "[encoded data removed]",
      "text/plain": [
       "<Figure size 432x288 with 1 Axes>"
      ]
     },
     "metadata": {
      "needs_background": "light"
     },
     "output_type": "display_data"
    }
   ],
   "source": [
    "plt.plot(T,residuals,'ro',label='residual')\n",
    "plt.plot([700,840],[0,0],'r-',label='zero')\n",
    "plt.legend(loc='best')\n",
    "plt.title(' Residual plot for Linearized Arrhenius Rate Constant: nonlinear ')\n",
    "plt.xlabel('T (K) ')\n",
    "plt.ylabel('$lnk_{exp}$  - $lnk_{calc}$')"
   ]
  },
  {
   "cell_type": "markdown",
   "id": "80a52a6f",
   "metadata": {},
   "source": [
    "## Enough fun comparing to Excel Now for the initial guesses!"
   ]
  },
  {
   "cell_type": "code",
   "execution_count": 16,
   "id": "27b6d659",
   "metadata": {},
   "outputs": [
    {
     "name": "stdout",
     "output_type": "stream",
     "text": [
      "Eguess= 185702.80397290422\n",
      "k0= 0.17785879243886543\n"
     ]
    }
   ],
   "source": [
    "E=-pars[1]*8.314\n",
    "k0=np.exp(pars[0]-E/8.314/770)\n",
    "print ('Eguess=',E)\n",
    "print ('k0=',k0)"
   ]
  },
  {
   "cell_type": "markdown",
   "id": "168266c4",
   "metadata": {},
   "source": [
    "## Nonlinear Fit"
   ]
  },
  {
   "cell_type": "markdown",
   "id": "9b93f1e1",
   "metadata": {},
   "source": [
    "The $+/-$ confidence interval is defined as an element from the diagonal of the covariance matrix to th 1/2 power times the tvalue."
   ]
  },
  {
   "cell_type": "markdown",
   "id": "623265f1",
   "metadata": {},
   "source": [
    "## Please note the initial guess for the curve_fit"
   ]
  },
  {
   "cell_type": "code",
   "execution_count": 20,
   "id": "85598d44",
   "metadata": {},
   "outputs": [
    {
     "name": "stdout",
     "output_type": "stream",
     "text": [
      "pars= [1.68699388e-01 1.96367539e+05]\n",
      "pcov= [[ 4.54070449e-05 -2.13777314e+01]\n",
      " [-2.13777314e+01  1.04023964e+07]]\n"
     ]
    }
   ],
   "source": [
    "# this is the function we want to fit to our data\n",
    "def func(T, k0, E):\n",
    "    #'nonlinear function in ko and E to fit to data'\n",
    "    k=k0*np.exp(-E/8.3148*(1/T-1/770))\n",
    "    return k\n",
    "\n",
    "initial_guess=[k0,E]\n",
    "\n",
    "pars, pcov = curve_fit(func, T, kexp, p0=initial_guess)\n",
    "print('pars=', pars)\n",
    "print('pcov=',pcov)"
   ]
  },
  {
   "cell_type": "code",
   "execution_count": 21,
   "id": "21ad6eff",
   "metadata": {
    "scrolled": true
   },
   "outputs": [
    {
     "name": "stdout",
     "output_type": "stream",
     "text": [
      "    Parameter  +/- 95% confidence  [lower 95%   upper 95%]\n",
      "p0: 0.16870 +/- 0.01871       [0.14999  0.18741]\n",
      "p1: 196367.53877 +/- 8954.79792       [187412.74084  205322.33669]\n"
     ]
    }
   ],
   "source": [
    "alpha = 0.05 # 95% confidence interval = 100*(1-alpha)\n",
    "\n",
    "n = len(kexp)    # number of data points\n",
    "p = len(pars) # number of parameters\n",
    "\n",
    "dof = max(0, n - p) # number of degrees of freedom\n",
    "\n",
    "# student-t value for the dof and confidence level\n",
    "tval = t.ppf(1.0-alpha/2., dof) \n",
    "print('    Parameter  +/- 95% confidence  [lower 95%   upper 95%]')\n",
    "for i, p,var in zip(range(n), pars, np.diag(pcov)):\n",
    "    sigma = var**0.5\n",
    "    \n",
    "    print ('p{:d}: {:7.5f} +/- {:7.5f}       [{:7.5f}  {:7.5f}]'\n",
    "           .format(i, p,sigma*tval,p - sigma*tval,p + sigma*tval))\n"
   ]
  },
  {
   "cell_type": "code",
   "execution_count": 22,
   "id": "9fa32568",
   "metadata": {},
   "outputs": [
    {
     "name": "stdout",
     "output_type": "stream",
     "text": [
      "[4.54070449e-05 1.04023964e+07]\n",
      "0.018709005837435053\n",
      "8954.797923109005\n"
     ]
    }
   ],
   "source": [
    "print(np.diag(pcov))\n",
    "print(np.diag(pcov)[0]**0.5*t.ppf(1.0-alpha/2., dof) )\n",
    "print(np.diag(pcov)[1]**0.5*t.ppf(1.0-alpha/2., dof) )"
   ]
  },
  {
   "cell_type": "code",
   "execution_count": 23,
   "id": "e159aaee",
   "metadata": {},
   "outputs": [
    {
     "data": {
      "text/plain": [
       "array([0.00785401, 0.03142232, 0.11268015, 0.36671977, 0.76718882,\n",
       "       2.17336185])"
      ]
     },
     "execution_count": 23,
     "metadata": {},
     "output_type": "execute_result"
    }
   ],
   "source": [
    "kcalc=pars[0]*np.exp(-pars[1]/8.3148*(1/T-1/770))\n",
    "kcalc"
   ]
  },
  {
   "cell_type": "code",
   "execution_count": 24,
   "id": "67736455",
   "metadata": {},
   "outputs": [
    {
     "name": "stdout",
     "output_type": "stream",
     "text": [
      "variance=0.00028283\n"
     ]
    }
   ],
   "source": [
    "residuals = kcalc-kexp\n",
    "ss_res = np.sum(residuals**2)\n",
    "variance=ss_res/(len(kexp)-len(pars))\n",
    "print('variance={:7.5}'.format(variance))"
   ]
  },
  {
   "cell_type": "code",
   "execution_count": 25,
   "id": "5024bb13",
   "metadata": {},
   "outputs": [
    {
     "name": "stdout",
     "output_type": "stream",
     "text": [
      "r^2=0.99967\n",
      "r^2Adj=0.99959\n"
     ]
    }
   ],
   "source": [
    "ss_res = np.sum(residuals**2)\n",
    "ss_tot = np.sum((kexp-np.mean(kexp))**2)\n",
    "r_squared = 1 - (ss_res/ss_tot)\n",
    "print('r^2={:7.5}'.format(r_squared))\n",
    "\n",
    "r_squaredAdj=1-ss_res/(len(kexp)-len(pars))/ss_tot*(len(kexp)-1)\n",
    "print('r^2Adj={:7.5}'.format(r_squaredAdj))"
   ]
  },
  {
   "cell_type": "code",
   "execution_count": 26,
   "id": "4801d3b0",
   "metadata": {},
   "outputs": [
    {
     "data": {
      "text/plain": [
       "Text(0.5, 1.0, 'Arrhenius Rate Constant Fit')"
      ]
     },
     "execution_count": 26,
     "metadata": {},
     "output_type": "execute_result"
    },
    {
     "data": {
      "image/png": "[encoded data removed]",
      "text/plain": [
       "<Figure size 432x288 with 1 Axes>"
      ]
     },
     "metadata": {
      "needs_background": "light"
     },
     "output_type": "display_data"
    }
   ],
   "source": [
    "plt.plot(T,kexp,'bo ')\n",
    "xfit = np.linspace(700,840)\n",
    "yfit = func(xfit, pars[0], pars[1])\n",
    "plt.plot(xfit,yfit,'b-')\n",
    "plt.legend(['data','fit'],loc='best')\n",
    "plt.xlabel('T (K)')\n",
    "plt.ylabel('k (L/mol/s)')\n",
    "plt.title('Arrhenius Rate Constant Fit')"
   ]
  },
  {
   "cell_type": "code",
   "execution_count": 27,
   "id": "67614a96",
   "metadata": {},
   "outputs": [
    {
     "data": {
      "text/plain": [
       "Text(0, 0.5, '$k_{exp}$  - $k_{calc}$')"
      ]
     },
     "execution_count": 27,
     "metadata": {},
     "output_type": "execute_result"
    },
    {
     "data": {
      "image/png": "[encoded data removed]",
      "text/plain": [
       "<Figure size 432x288 with 1 Axes>"
      ]
     },
     "metadata": {
      "needs_background": "light"
     },
     "output_type": "display_data"
    }
   ],
   "source": [
    "plt.plot(T,residuals,'ro',label='residual')\n",
    "plt.plot([700,840],[0,0],'r-',label='zero')\n",
    "plt.legend(loc='best')\n",
    "plt.title(' Residual plot for Arrhenius Rate Constant: nonlinear ')\n",
    "plt.xlabel('T (K) ')\n",
    "plt.ylabel('$k_{exp}$  - $k_{calc}$')"
   ]
  }
 ],
 "metadata": {
  "kernelspec": {
   "display_name": "Python 3",
   "language": "python",
   "name": "python3"
  },
  "language_info": {
   "codemirror_mode": {
    "name": "ipython",
    "version": 3
   },
   "file_extension": ".py",
   "mimetype": "text/x-python",
   "name": "python",
   "nbconvert_exporter": "python",
   "pygments_lexer": "ipython3",
   "version": "3.7.13"
  }
 },
 "nbformat": 4,
 "nbformat_minor": 5
}
