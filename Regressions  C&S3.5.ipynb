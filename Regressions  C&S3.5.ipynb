{
 "cells": [
  {
   "cell_type": "markdown",
   "id": "c13eaace",
   "metadata": {},
   "source": [
    "This is based on the APMonitor Linear Regression video but adds regression statistics such as $R^2$, $R_{adj}^2$, and confidence intervals<br>\n",
    "https://apmonitor.com/che263/index.php/Main/PythonRegressionStatistics"
   ]
  },
  {
   "cell_type": "code",
   "execution_count": 7,
   "id": "dac88ab1",
   "metadata": {},
   "outputs": [
    {
     "data": {
      "text/html": [
       "<div>\n",
       "<style scoped>\n",
       "    .dataframe tbody tr th:only-of-type {\n",
       "        vertical-align: middle;\n",
       "    }\n",
       "\n",
       "    .dataframe tbody tr th {\n",
       "        vertical-align: top;\n",
       "    }\n",
       "\n",
       "    .dataframe thead th {\n",
       "        text-align: right;\n",
       "    }\n",
       "</style>\n",
       "<table border=\"1\" class=\"dataframe\">\n",
       "  <thead>\n",
       "    <tr style=\"text-align: right;\">\n",
       "      <th></th>\n",
       "      <th>Re</th>\n",
       "      <th>Pr</th>\n",
       "      <th>mu</th>\n",
       "      <th>Nu</th>\n",
       "    </tr>\n",
       "  </thead>\n",
       "  <tbody>\n",
       "    <tr>\n",
       "      <th>0</th>\n",
       "      <td>49000.0</td>\n",
       "      <td>2.30</td>\n",
       "      <td>0.947</td>\n",
       "      <td>277.0</td>\n",
       "    </tr>\n",
       "    <tr>\n",
       "      <th>1</th>\n",
       "      <td>68600.0</td>\n",
       "      <td>2.28</td>\n",
       "      <td>0.954</td>\n",
       "      <td>348.0</td>\n",
       "    </tr>\n",
       "    <tr>\n",
       "      <th>2</th>\n",
       "      <td>84800.0</td>\n",
       "      <td>2.27</td>\n",
       "      <td>0.959</td>\n",
       "      <td>421.0</td>\n",
       "    </tr>\n",
       "    <tr>\n",
       "      <th>3</th>\n",
       "      <td>34200.0</td>\n",
       "      <td>2.32</td>\n",
       "      <td>0.943</td>\n",
       "      <td>223.0</td>\n",
       "    </tr>\n",
       "    <tr>\n",
       "      <th>4</th>\n",
       "      <td>22900.0</td>\n",
       "      <td>2.36</td>\n",
       "      <td>0.936</td>\n",
       "      <td>177.0</td>\n",
       "    </tr>\n",
       "  </tbody>\n",
       "</table>\n",
       "</div>"
      ],
      "text/plain": [
       "        Re    Pr     mu     Nu\n",
       "0  49000.0  2.30  0.947  277.0\n",
       "1  68600.0  2.28  0.954  348.0\n",
       "2  84800.0  2.27  0.959  421.0\n",
       "3  34200.0  2.32  0.943  223.0\n",
       "4  22900.0  2.36  0.936  177.0"
      ]
     },
     "execution_count": 7,
     "metadata": {},
     "output_type": "execute_result"
    }
   ],
   "source": [
    "import numpy as np\n",
    "import matplotlib.pyplot as plt\n",
    "from scipy.stats import linregress\n",
    "import pandas as pd\n",
    "from scipy.optimize import curve_fit\n",
    "from scipy.stats.distributions import  t\n",
    "\n",
    "data = pd.read_csv('C&S3.5data.csv')\n",
    "data.head()"
   ]
  },
  {
   "cell_type": "code",
   "execution_count": 2,
   "id": "aab88ab1",
   "metadata": {
    "scrolled": false
   },
   "outputs": [
    {
     "name": "stdout",
     "output_type": "stream",
     "text": [
      "[   2.3     2.28    2.27    2.32    2.36  246.    247.    251.    273.\n",
      " 1518.   1590.   1521.    107.4   186.    414.   1302.  ]\n"
     ]
    }
   ],
   "source": [
    "Re = data['Re'].values\n",
    "Pr = data['Pr'].values\n",
    "mu = data['mu'].values\n",
    "Nu = data['Nu'].values\n",
    "num = len(Nu)\n",
    "print(Pr)"
   ]
  },
  {
   "cell_type": "markdown",
   "id": "905775bb",
   "metadata": {},
   "source": [
    "Regression using SciPy<br>\n",
    "Regress the data with the following equation $$Nu = aRe^bPr^c  $$"
   ]
  },
  {
   "cell_type": "code",
   "execution_count": 3,
   "id": "62f886d9",
   "metadata": {},
   "outputs": [
    {
     "name": "stdout",
     "output_type": "stream",
     "text": [
      "[274.49095649 328.42396011 367.82380513 226.56643757 183.24773655\n",
      " 122.75808556 101.74264926  74.44660592  61.12731773  53.2437653\n",
      "  34.5551406   43.54937272  97.21547891  99.75714118  79.39623111\n",
      "  33.16620173]\n"
     ]
    }
   ],
   "source": [
    "# Define Equation for non-linear regression Nu  \n",
    "def calc_y(x,a,b,c):\n",
    "    y = a*Re**b*Pr**c \n",
    "    return y\n",
    "# testing the function\n",
    "x=[Re,Pr]\n",
    "print(calc_y(x,0.66,0.5395,0.245))"
   ]
  },
  {
   "cell_type": "code",
   "execution_count": 4,
   "id": "14d4baae",
   "metadata": {},
   "outputs": [
    {
     "name": "stdout",
     "output_type": "stream",
     "text": [
      "params:  [0.16564087 0.66354798 0.34137704]\n",
      "covariance:  [[ 0.00342255 -0.0017514  -0.00164042]\n",
      " [-0.0017514   0.00089794  0.00083465]\n",
      " [-0.00164042  0.00083465  0.0008292 ]]\n"
     ]
    }
   ],
   "source": [
    "# calculate Nu using a non-linear regression \n",
    "params, covs = curve_fit(calc_y, x, Nu)\n",
    "print(\"params: \", params) \n",
    "print(\"covariance: \", covs) "
   ]
  },
  {
   "cell_type": "code",
   "execution_count": 5,
   "id": "b43f0a9f",
   "metadata": {},
   "outputs": [
    {
     "name": "stdout",
     "output_type": "stream",
     "text": [
      "[0.16564087 0.66354798 0.34137704] [[ 0.00342255 -0.0017514  -0.00164042]\n",
      " [-0.0017514   0.00089794  0.00083465]\n",
      " [-0.00164042  0.00083465  0.0008292 ]]\n",
      "[284.98578828 355.21502393 408.25701447 225.15446372 173.5525962\n",
      " 127.71637928 101.39577416  69.0953833   54.40217956  49.1698134\n",
      "  28.94525257  38.40396383  92.73068546  97.84982489  76.30172164\n",
      "  27.3016249 ]\n"
     ]
    }
   ],
   "source": [
    "params, pcov=curve_fit(calc_y,x,Nu)\n",
    "a,b,c=params[0],params[1],params[2]\n",
    "yfit=a*Re**b*Pr**c\n",
    "print(params, pcov)\n",
    "print (yfit)"
   ]
  },
  {
   "cell_type": "code",
   "execution_count": 9,
   "id": "a9381117",
   "metadata": {},
   "outputs": [
    {
     "name": "stdout",
     "output_type": "stream",
     "text": [
      "    Parameter  +/- 95% confidence  [lower 95%   upper 95%]\n",
      "p0: 0.16564 +/- 0.12639       [0.03925  0.29203]\n",
      "p1: 0.66355 +/- 0.06474       [0.59881  0.72828]\n",
      "p2: 0.34138 +/- 0.06221       [0.27917  0.40359]\n"
     ]
    }
   ],
   "source": [
    "alpha = 0.05 # 95% confidence interval = 100*(1-alpha)\n",
    "\n",
    "n = len(Re)    # number of data points\n",
    "p = len(params) # number of parameters\n",
    "\n",
    "dof = max(0, n - p) # number of degrees of freedom\n",
    "\n",
    "# student-t value for the dof and confidence level\n",
    "tval = t.ppf(1.0-alpha/2., dof) \n",
    "print('    Parameter  +/- 95% confidence  [lower 95%   upper 95%]')\n",
    "for i, p,var in zip(range(n), params, np.diag(pcov)):\n",
    "    sigma = var**0.5\n",
    "    \n",
    "    print ('p{:d}: {:7.5f} +/- {:7.5f}       [{:7.5f}  {:7.5f}]'.format(i, p,sigma*tval,p - sigma*tval,p + sigma*tval))\n"
   ]
  },
  {
   "cell_type": "code",
   "execution_count": 10,
   "id": "905ea8ff",
   "metadata": {
    "scrolled": false
   },
   "outputs": [
    {
     "data": {
      "text/plain": [
       "<matplotlib.legend.Legend at 0x18a23453820>"
      ]
     },
     "execution_count": 10,
     "metadata": {},
     "output_type": "execute_result"
    },
    {
     "data": {
      "image/png": "[encoded data removed]",
      "text/plain": [
       "<Figure size 432x288 with 1 Axes>"
      ]
     },
     "metadata": {
      "needs_background": "light"
     },
     "output_type": "display_data"
    }
   ],
   "source": [
    "xplot=np.linspace(30,450,20)\n",
    "# plot solution\n",
    "import matplotlib.pyplot as plt\n",
    "plt.figure(1)\n",
    "plt.plot(Nu,yfit,'ro',label='pred')\n",
    "plt.plot(Nu,Nu,'-b',label='y=x');\n",
    "plt.xlabel('Nu data')\n",
    "plt.ylabel('Nu Predicted')\n",
    "plt.title('parity plot')\n",
    "plt.legend(loc='best')\n"
   ]
  },
  {
   "cell_type": "code",
   "execution_count": 11,
   "id": "df08c923",
   "metadata": {},
   "outputs": [
    {
     "name": "stdout",
     "output_type": "stream",
     "text": [
      "variance= 68.276\n"
     ]
    }
   ],
   "source": [
    "residuals = yfit-Nu\n",
    "ss_res = np.sum(residuals**2)\n",
    "variance=ss_res/(len(Nu)-len(params))\n",
    "print('variance={:7.5}'.format(variance))"
   ]
  },
  {
   "cell_type": "code",
   "execution_count": 12,
   "id": "acdbaf0e",
   "metadata": {},
   "outputs": [
    {
     "name": "stdout",
     "output_type": "stream",
     "text": [
      "r^2=0.99575\n"
     ]
    }
   ],
   "source": [
    "residuals = yfit-Nu\n",
    "ss_res = np.sum(residuals**2)\n",
    "ss_tot = np.sum((Nu-np.mean(Nu))**2)\n",
    "r_squared = 1 - (ss_res/ss_tot)\n",
    "r_squared\n",
    "print('r^2={:7.5}'.format(r_squared))"
   ]
  },
  {
   "cell_type": "markdown",
   "id": "3d3c04e9",
   "metadata": {},
   "source": [
    "Regression using SciPy<br>\n",
    "Regress the data with the following equation $$Nu = a1Re^{b1}Pr^{c1}mu^{d1}  $$"
   ]
  },
  {
   "cell_type": "code",
   "execution_count": null,
   "id": "a140131e",
   "metadata": {},
   "outputs": [],
   "source": [
    "# calculate Nu using a non-linear regression \n",
    "def calc_y1(x1,a1,b1,c1,d1):\n",
    "    y1 = a1*Re**b1*Pr**c1*mu**d1 \n",
    "    return y1\n",
    "x1=[Re,Pr,mu]\n",
    "print(calc_y1(x1,0.149,0.673,0.329,-0.1774))"
   ]
  },
  {
   "cell_type": "code",
   "execution_count": null,
   "id": "0ce15496",
   "metadata": {},
   "outputs": [],
   "source": [
    "# calculate Nu using a non-linear regression \n",
    "params1, covs1 = curve_fit(calc_y1, x1, Nu)\n",
    "print(\"params: \", params1) \n",
    "print(\"covariance: \", covs1) "
   ]
  },
  {
   "cell_type": "code",
   "execution_count": null,
   "id": "e298750f",
   "metadata": {},
   "outputs": [],
   "source": [
    "params1, pcov1=curve_fit(calc_y1,x1,Nu)\n",
    "a1,b1,c1,d1=params1[0],params1[1],params1[2],params1[3]\n",
    "yfit1=a1*Re**b1*Pr**c1*mu**d1\n",
    "print(params1, pcov1)\n",
    "print (yfit1)"
   ]
  },
  {
   "cell_type": "code",
   "execution_count": null,
   "id": "61ed2495",
   "metadata": {},
   "outputs": [],
   "source": [
    "# print solution\n",
    "print('Solution with dimensionless viscosity ratio')\n",
    "\n",
    "print('a = {:7.5} +/- {:7.5}'.format(params1[0],pcov1[0,0]**0.5))\n",
    "print('b = {:7.5} +/- {:7.5}'.format(params1[1],pcov1[1,1]**0.5))\n",
    "print('c = {:7.5} +/- {:7.5}'.format(params1[2],pcov1[2,2]**0.5))\n",
    "\n",
    "xplot=np.linspace(30,450,20)\n",
    "# plot solution\n",
    "import matplotlib.pyplot as plt\n",
    "plt.figure(1)\n",
    "plt.plot(Nu,yfit1,'ro',label='pred')\n",
    "plt.plot(Nu,Nu,'-b',label='y=x');\n",
    "plt.xlabel('Nu data')\n",
    "plt.ylabel('Nu Predicted')\n",
    "plt.title('parity plot for the viscosity correction')\n",
    "plt.legend(loc='best')\n"
   ]
  },
  {
   "cell_type": "code",
   "execution_count": null,
   "id": "8e8e6743",
   "metadata": {},
   "outputs": [],
   "source": [
    "residuals1 = yfit1-Nu\n",
    "ss_res1 = np.sum(residuals1**2)\n",
    "variance1=ss_res1/(len(Nu)-len(params1))\n",
    "variance1"
   ]
  },
  {
   "cell_type": "code",
   "execution_count": null,
   "id": "b579d0f0",
   "metadata": {},
   "outputs": [],
   "source": [
    "residuals = yfit1-Nu\n",
    "ss_res = np.sum(residuals**2)\n",
    "ss_tot = np.sum((Nu-np.mean(Nu))**2)\n",
    "r_squared = 1 - (ss_res/ss_tot)\n",
    "r_squared\n",
    "print('r^2={:7.5}'.format(r_squared))"
   ]
  },
  {
   "cell_type": "code",
   "execution_count": null,
   "id": "f355a965",
   "metadata": {},
   "outputs": [],
   "source": [
    "#The variable of viscosity is not independent of the Reynolds number\n",
    "\n",
    "xplot=np.linspace(30,450,20)\n",
    "# plot solution\n",
    "import matplotlib.pyplot as plt\n",
    "plt.figure(1)\n",
    "plt.plot(np.log(Re),mu,'ro',label='data')\n",
    "\n",
    "plt.xlabel('ln(Re)')\n",
    "plt.ylabel('Mu')\n",
    "plt.title('Demonstration that mu and Re are not independent')\n",
    "plt.legend(loc='best')\n"
   ]
  },
  {
   "cell_type": "markdown",
   "id": "8656704f",
   "metadata": {},
   "source": [
    "As can be seen in the graph above the values of viscosity and Reynolds number are not independent.  So it is recomended that the 3 parameter model is the best fit.  The regression with the lowest variance is from the non-linear fit.  $$Nu = aRe^bPr^c  $$ which is $$Nu = 0.16564Re^{0.66355}Pr^{0.34138}  $$"
   ]
  },
  {
   "cell_type": "code",
   "execution_count": null,
   "id": "4b7fe44d",
   "metadata": {},
   "outputs": [],
   "source": [
    "print('Nu={:7.5}Re^({:7.5})Pr^({:7.5}) '.format(params[0],params[1],params[2]))\n"
   ]
  }
 ],
 "metadata": {
  "kernelspec": {
   "display_name": "Python 3",
   "language": "python",
   "name": "python3"
  },
  "language_info": {
   "codemirror_mode": {
    "name": "ipython",
    "version": 3
   },
   "file_extension": ".py",
   "mimetype": "text/x-python",
   "name": "python",
   "nbconvert_exporter": "python",
   "pygments_lexer": "ipython3",
   "version": "3.7.13"
  }
 },
 "nbformat": 4,
 "nbformat_minor": 5
}
