{
 "cells": [
  {
   "cell_type": "markdown",
   "metadata": {},
   "source": [
    "Bisection Example\n",
    " - Graphically give approximate values of the roots of the equation\n",
    " - Use Bisection Method\n",
    "\n",
    "Make a plot of $f(c)$ as a function of $c$ $$f(c)=\\frac{667.38}{c}(1-e^{-0.146843c})-40$$\n"
   ]
  },
  {
   "cell_type": "code",
   "execution_count": 5,
   "metadata": {},
   "outputs": [],
   "source": [
    "import numpy as np\n",
    "from scipy.integrate import solve_ivp\n",
    "import math\n",
    "import matplotlib.pyplot as plt"
   ]
  },
  {
   "cell_type": "code",
   "execution_count": 6,
   "metadata": {},
   "outputs": [
    {
     "name": "stdout",
     "output_type": "stream",
     "text": [
      "[ 4  8 12 16 20]\n",
      "[34.11488938 17.65345264  6.06694996 -2.26875421 -8.40062441]\n"
     ]
    },
    {
     "data": {
      "text/plain": [
       "Text(0, 0.5, 'y ')"
      ]
     },
     "execution_count": 6,
     "metadata": {},
     "output_type": "execute_result"
    },
    {
     "data": {
      "image/png": "[encoded data removed]",
      "text/plain": [
       "<Figure size 432x288 with 1 Axes>"
      ]
     },
     "metadata": {
      "needs_background": "light"
     },
     "output_type": "display_data"
    }
   ],
   "source": [
    "#Make a plot of a function.  the x needs to be a numpy array\n",
    "c=np.array([4,8,12,16,20])#or use c=np.linspace(4,20,17)##\n",
    "print(c)\n",
    "y= 667.38/c*(1-np.exp(-0.146843*c))-40\n",
    "print(y)\n",
    "plt.plot(c,y)\n",
    "plt.plot([4,20],[0,0],'--')\n",
    "plt.title(' Graphical root finding')\n",
    "plt.xlabel('c')\n",
    "plt.ylabel('y ')"
   ]
  },
  {
   "cell_type": "markdown",
   "metadata": {},
   "source": [
    "Where are the root?  are they between c values of 4 and 20?"
   ]
  },
  {
   "cell_type": "markdown",
   "metadata": {},
   "source": [
    "write a bisection program.  The sign changes from positive to negative at around 15"
   ]
  },
  {
   "cell_type": "code",
   "execution_count": 8,
   "metadata": {},
   "outputs": [
    {
     "name": "stdout",
     "output_type": "stream",
     "text": [
      "34.114889382320015\n"
     ]
    }
   ],
   "source": [
    "#This is a one line function\n",
    "fx=lambda c : 667.38/c*(1-np.exp(-0.146843*c))-40\n",
    "print(fx(4))"
   ]
  },
  {
   "cell_type": "code",
   "execution_count": 9,
   "metadata": {},
   "outputs": [
    {
     "name": "stdout",
     "output_type": "stream",
     "text": [
      "midpoint= 12.0\n",
      "34.114889382320015\n",
      "6.066949962931268\n",
      "-8.400624408141017\n"
     ]
    }
   ],
   "source": [
    "x1=4\n",
    "x2=20\n",
    "midpoint=(x2+x1)/2\n",
    "print('midpoint=',midpoint)\n",
    "print(fx(x1))\n",
    "print(fx(midpoint))\n",
    "print(fx(x2))\n",
    "#if fx(x1)*fx(midpoint) < 0:\n",
    "    "
   ]
  },
  {
   "cell_type": "markdown",
   "metadata": {},
   "source": [
    "Repeat above under you get a small error (err<1e-6)"
   ]
  },
  {
   "cell_type": "code",
   "execution_count": null,
   "metadata": {},
   "outputs": [],
   "source": []
  },
  {
   "cell_type": "code",
   "execution_count": null,
   "metadata": {},
   "outputs": [],
   "source": []
  },
  {
   "cell_type": "code",
   "execution_count": null,
   "metadata": {},
   "outputs": [],
   "source": []
  },
  {
   "cell_type": "markdown",
   "metadata": {},
   "source": [
    "Is this getting boring?"
   ]
  },
  {
   "cell_type": "markdown",
   "metadata": {},
   "source": [
    "Now automate this process so that you don't have to do it by hand in the cell below"
   ]
  },
  {
   "cell_type": "code",
   "execution_count": null,
   "metadata": {},
   "outputs": [],
   "source": []
  },
  {
   "cell_type": "code",
   "execution_count": null,
   "metadata": {},
   "outputs": [],
   "source": []
  },
  {
   "cell_type": "markdown",
   "metadata": {},
   "source": [
    "Do the same root finding using linear interpolation, False position, or regula falsi.  Modify the template that you used in solving ODE's with a split boundary condition."
   ]
  },
  {
   "cell_type": "code",
   "execution_count": null,
   "metadata": {},
   "outputs": [],
   "source": []
  }
 ],
 "metadata": {
  "colab": {
   "collapsed_sections": [],
   "provenance": [
    {
     "file_id": "184XY4TOcGbUhgd4mKF7DEg725m4A7yRe",
     "timestamp": 1661963051489
    }
   ]
  },
  "kernelspec": {
   "display_name": "Python 3",
   "language": "python",
   "name": "python3"
  },
  "language_info": {
   "codemirror_mode": {
    "name": "ipython",
    "version": 3
   },
   "file_extension": ".py",
   "mimetype": "text/x-python",
   "name": "python",
   "nbconvert_exporter": "python",
   "pygments_lexer": "ipython3",
   "version": "3.7.6"
  }
 },
 "nbformat": 4,
 "nbformat_minor": 1
}
